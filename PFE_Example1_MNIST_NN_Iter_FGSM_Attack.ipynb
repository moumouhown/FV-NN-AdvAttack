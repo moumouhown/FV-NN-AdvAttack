{
 "cells": [
  {
   "cell_type": "code",
   "execution_count": 1,
   "id": "55fd5c17",
   "metadata": {},
   "outputs": [],
   "source": [
    "import torch\n",
    "from torch import nn\n",
    "from torch.autograd import Variable\n",
    "from torch.utils.data import Dataset, DataLoader\n",
    "\n",
    "import torchvision.transforms as transforms\n",
    "import torchvision\n",
    "from torchvision.models.inception import inception_v3\n",
    "\n",
    "from PIL import Image\n",
    "\n",
    "import matplotlib.pyplot as plt\n",
    "import os\n",
    "import numpy as np"
   ]
  },
  {
   "cell_type": "markdown",
   "id": "f94600a8",
   "metadata": {},
   "source": [
    "# Util function for image dispaly"
   ]
  },
  {
   "cell_type": "code",
   "execution_count": 12,
   "id": "b129749c",
   "metadata": {},
   "outputs": [],
   "source": [
    "def displayMNIST (img):\n",
    "    ''' Display MNIST image where pixels are without value 0-1\n",
    "    '''\n",
    "\n",
    "    if not (type(img) is np.ndarray) : \n",
    "        raise TypeError(\"Only numpy.array is supported\")\n",
    "    if not (img.ndim == 3 and img.shape[0] == 1):\n",
    "        raise AttributeError(\"Expects (1, 28, 28) shape\")\n",
    "    \n",
    "    img = np.squeeze(img, axis=0) * 255\n",
    "    pixels = img.reshape((28, 28))\n",
    "    \n",
    "    # Create 2-inch by 2-inch image\n",
    "    plt.figure(figsize=(1.5,1.5))\n",
    "    plt.imshow(pixels, cmap='gray')\n",
    "    plt.show()\n",
    "\n",
    "def display_images(images, titles):\n",
    "    ''' Display multiple images horizontally '''\n",
    "    fig, axes = plt.subplots(1, len(images), figsize=(15, 5))\n",
    "    for ax, image, title in zip(axes, images, titles):\n",
    "        ax.imshow(image.squeeze(), cmap='gray')\n",
    "        ax.set_title(title)\n",
    "        ax.axis('off')\n",
    "    plt.show()\n",
    "    "
   ]
  },
  {
   "cell_type": "markdown",
   "id": "03c0f83e",
   "metadata": {},
   "source": [
    "# Define an example of attack: Iterative FGSM"
   ]
  },
  {
   "cell_type": "code",
   "execution_count": 18,
   "id": "f8921b9b",
   "metadata": {},
   "outputs": [],
   "source": [
    "def zero_gradients(i):\n",
    "    if i.grad is not None:\n",
    "        i.grad.data.zero_()\n",
    "\n",
    "\n",
    "def iterative_FGSM_attack (img, label, model):    \n",
    "    eps = 4 * 8 / 225.     \n",
    "    # eps = 1 * 8 / 225. \n",
    "    steps = 100\n",
    "    norm = float('inf')\n",
    "    # step_alpha = 0.05 \n",
    "    step_alpha = 0.01 \n",
    "    loss = nn.CrossEntropyLoss()\n",
    "    \n",
    "    x, y = Variable(img, requires_grad=True), Variable(label)\n",
    "    result = img\n",
    "    adv = torch.zeros(result.shape)\n",
    "    for step in range(steps):\n",
    "        zero_gradients(x)\n",
    "        out = model(x)        \n",
    "        # Returns the maximum value of each row of the input tensor in the given dimension dim\n",
    "        _ , y.data = torch.max(out.data, 1)\n",
    "        \n",
    "        if ((not (y.data == label)) and step > 1) :\n",
    "            return result.cpu(), adv.cpu(), True\n",
    "            print(\"perturbed input for \"+ str(label[0])+  \" is now identified to be: \"+ str(y.data[0]))\n",
    "            \n",
    "        _loss = loss(out, y)\n",
    "        _loss.backward()\n",
    "        normed_grad = step_alpha * torch.sign(x.grad.data)\n",
    "        step_adv = x.data + normed_grad\n",
    "        adv = step_adv - img\n",
    "        adv = torch.clamp(adv, -eps, eps)\n",
    "        result = img + adv\n",
    "        # torch.clamp(input, min, max, out=None) → Tensor\n",
    "        # Clamp all elements in input into the range [min, max] and return a resulting Tensor.\n",
    "        result = torch.clamp(result, 0.0, 1.0)\n",
    "        x.data = result        \n",
    "        \n",
    "    return result.cpu(), adv.cpu(), False"
   ]
  },
  {
   "cell_type": "code",
   "execution_count": 36,
   "id": "85612298",
   "metadata": {},
   "outputs": [
    {
     "data": {
      "text/plain": [
       "0.14222222222222222"
      ]
     },
     "execution_count": 36,
     "metadata": {},
     "output_type": "execute_result"
    }
   ],
   "source": [
    "4 * 8 / 225"
   ]
  },
  {
   "cell_type": "markdown",
   "id": "fca1a05f",
   "metadata": {},
   "source": [
    "# Let's first build our Model  -- MNIST example "
   ]
  },
  {
   "cell_type": "markdown",
   "id": "d45582b7",
   "metadata": {},
   "source": [
    "### 0- Define some hyperparameters needed before starting the training "
   ]
  },
  {
   "cell_type": "code",
   "execution_count": 4,
   "id": "3c72b365",
   "metadata": {},
   "outputs": [],
   "source": [
    "# Put these at the top of every notebook, to get automatic reloading and inline plotting\n",
    "%reload_ext autoreload\n",
    "%autoreload 2\n",
    "%matplotlib inline\n",
    "\n",
    "# Device configuration\n",
    "device = torch.device('cuda' if torch.cuda.is_available() else 'cpu')\n",
    "\n",
    "\n",
    "# Hyper-parameters \n",
    "num_classes = 10\n",
    "num_epochs = 5\n",
    "batch_size = 64\n",
    "learning_rate = 0.001\n",
    "sizeOfNeuronsToMonitor = 40"
   ]
  },
  {
   "cell_type": "markdown",
   "id": "8e5df16a",
   "metadata": {},
   "source": [
    "### 1- We first need the load the data"
   ]
  },
  {
   "cell_type": "code",
   "execution_count": 5,
   "id": "401a9c49",
   "metadata": {},
   "outputs": [],
   "source": [
    "# MNIST dataset \n",
    "train_dataset = torchvision.datasets.MNIST(root='data/mnist', \n",
    "                                           train=True, \n",
    "                                           transform=transforms.ToTensor(),  \n",
    "                                           download=True)\n",
    "\n",
    "test_dataset = torchvision.datasets.MNIST(root='data/mnist', \n",
    "                                          train=False, \n",
    "                                          transform=transforms.ToTensor())\n",
    "\n",
    "# Data loader\n",
    "train_loader = torch.utils.data.DataLoader(dataset=train_dataset, \n",
    "                                           batch_size=batch_size, \n",
    "                                           shuffle=True)\n",
    "\n",
    "test_loader = torch.utils.data.DataLoader(dataset=test_dataset, \n",
    "                                          batch_size=batch_size, \n",
    "                                          shuffle=False)"
   ]
  },
  {
   "cell_type": "markdown",
   "id": "af4da4b8",
   "metadata": {},
   "source": [
    "Let test if we load our data correctely"
   ]
  },
  {
   "cell_type": "code",
   "execution_count": 6,
   "id": "ff49e12b",
   "metadata": {},
   "outputs": [
    {
     "data": {
      "image/png": "[encoded data removed]",
      "text/plain": [
       "<Figure size 1000x1000 with 16 Axes>"
      ]
     },
     "metadata": {},
     "output_type": "display_data"
    }
   ],
   "source": [
    "def displayMNISTGrid(images, labels, nrows=4, ncols=4):\n",
    "    ''' Display a grid of MNIST images with labels on top '''\n",
    "    fig, axes = plt.subplots(nrows, ncols, figsize=(10, 10))\n",
    "    fig.subplots_adjust(hspace=0.5, wspace=0.5)\n",
    "    \n",
    "    for i in range(nrows):\n",
    "        for j in range(ncols):\n",
    "            idx = i * ncols + j\n",
    "            ax = axes[i, j]\n",
    "            ax.imshow(images[idx].squeeze(), cmap='gray')\n",
    "            ax.set_title(f\"Label: {labels[idx].item()}\", fontsize=10)\n",
    "            ax.set_xticks([])\n",
    "            ax.set_yticks([])\n",
    "    \n",
    "    plt.show()\n",
    "\n",
    "# Example usage:\n",
    "for images, labels in train_loader:\n",
    "    displayMNISTGrid(images[:16], labels[:16])\n",
    "    break"
   ]
  },
  {
   "cell_type": "markdown",
   "id": "688665b2",
   "metadata": {},
   "source": [
    "### 2- Define the Model"
   ]
  },
  {
   "cell_type": "code",
   "execution_count": 7,
   "id": "ffa944bc",
   "metadata": {},
   "outputs": [],
   "source": [
    "import torch.nn as nn\n",
    "import torch.nn.functional as F\n",
    "\n",
    "class NeuralNet(nn.Module):\n",
    "    \n",
    "    def __init__(self):\n",
    "        super(NeuralNet, self).__init__()\n",
    " \n",
    "        self.conv1 = nn.Conv2d(1, 40, 5)\n",
    "        self.pool = nn.MaxPool2d(2, 2)\n",
    "        self.conv2 = nn.Conv2d(40, 20, 5)\n",
    "        self.fc1 = nn.Linear(20 * 4 * 4, 160)\n",
    "        self.fc2 = nn.Linear(160, 80)\n",
    "        self.fc3 = nn.Linear(80, sizeOfNeuronsToMonitor)\n",
    "        self.fc4 = nn.Linear(sizeOfNeuronsToMonitor, num_classes)\n",
    "        \n",
    "    def forward(self, x):\n",
    "        # Original 28x28x1 -(conv)-> 24x24x40 -(pool)-> 12x12x40\n",
    "        x = self.pool(F.relu(self.conv1(x)))\n",
    "        # Original 12x12x40 -(conv)-> 8x8x20 -(pool)-> 4x4x20\n",
    "        x = self.pool(F.relu(self.conv2(x)))\n",
    "        # Flatten it to an array of inputs\n",
    "        x = x.view(-1, 20 * 4 * 4)\n",
    "        x = F.relu(self.fc1(x))\n",
    "        x = F.relu(self.fc2(x))\n",
    "        x = F.relu(self.fc3(x))\n",
    "        out = self.fc4(x)\n",
    "        return out \n",
    "  \n",
    "    # Here we add another function, which does the same forward computation but also extracts intermediate layer results\n",
    "    def forwardWithIntermediate(self, x):\n",
    "        x = self.pool(F.relu(self.conv1(x)))\n",
    "        x = self.pool(F.relu(self.conv2(x)))\n",
    "        x = x.view(-1, 20 * 4 * 4)\n",
    "        x = F.relu(self.fc1(x))\n",
    "        x = F.relu(self.fc2(x))\n",
    "        x = self.fc3(x)\n",
    "        intermediateValues = x\n",
    "        x = F.relu(x)\n",
    "        out = self.fc4(x)\n",
    "        return out, intermediateValues    \n",
    "    \n",
    "net = NeuralNet()\n",
    "net.eval()\n",
    "\n",
    "# Loss and optimizer\n",
    "criterion = nn.CrossEntropyLoss()\n",
    "optimizer = torch.optim.Adam(net.parameters(), lr=learning_rate)  "
   ]
  },
  {
   "cell_type": "markdown",
   "id": "92a7ea67",
   "metadata": {},
   "source": [
    "Load the model (if you have a pretrained one)"
   ]
  },
  {
   "cell_type": "code",
   "execution_count": 8,
   "id": "257be257",
   "metadata": {},
   "outputs": [
    {
     "data": {
      "text/plain": [
       "NeuralNet(\n",
       "  (conv1): Conv2d(1, 40, kernel_size=(5, 5), stride=(1, 1))\n",
       "  (pool): MaxPool2d(kernel_size=2, stride=2, padding=0, dilation=1, ceil_mode=False)\n",
       "  (conv2): Conv2d(40, 20, kernel_size=(5, 5), stride=(1, 1))\n",
       "  (fc1): Linear(in_features=320, out_features=160, bias=True)\n",
       "  (fc2): Linear(in_features=160, out_features=80, bias=True)\n",
       "  (fc3): Linear(in_features=80, out_features=40, bias=True)\n",
       "  (fc4): Linear(in_features=40, out_features=10, bias=True)\n",
       ")"
      ]
     },
     "execution_count": 8,
     "metadata": {},
     "output_type": "execute_result"
    }
   ],
   "source": [
    "# Load the trained model\n",
    "checkpoint = torch.load('trained_model.pth')\n",
    "net.load_state_dict(checkpoint['model_state_dict'])\n",
    "optimizer.load_state_dict(checkpoint['optimizer_state_dict'])\n",
    "epoch = checkpoint['epoch']\n",
    "loss = checkpoint['loss']\n",
    "\n",
    "# Set the model to evaluation mode\n",
    "net.eval()"
   ]
  },
  {
   "cell_type": "markdown",
   "id": "5939b0b1",
   "metadata": {},
   "source": [
    "Train the Model using the Train Data"
   ]
  },
  {
   "cell_type": "code",
   "execution_count": 9,
   "id": "77998a3f",
   "metadata": {},
   "outputs": [],
   "source": [
    "furtherTrain = False\n",
    "\n",
    "if furtherTrain: \n",
    "\n",
    "    # Train the model\n",
    "    total_step = len(train_loader)\n",
    "    for epoch in range(num_epochs):\n",
    "        for i, (images, labels) in enumerate(train_loader):  \n",
    "            # Move tensors to the configured device\n",
    "            labels = labels.to(device)\n",
    "\n",
    "            # Forward pass\n",
    "            outputs = net(images)\n",
    "            loss = criterion(outputs, labels)\n",
    "\n",
    "            # Backward and optimize\n",
    "            optimizer.zero_grad()\n",
    "            loss.backward()\n",
    "            optimizer.step()\n",
    "\n",
    "            if (i+1) % 100 == 0:\n",
    "                print ('Epoch [{}/{}], Step [{}/{}], Loss: {:.4f}' \n",
    "                       .format(epoch+1, num_epochs, i+1, total_step, loss.item()))"
   ]
  },
  {
   "cell_type": "code",
   "execution_count": 10,
   "id": "9374d1b4",
   "metadata": {},
   "outputs": [],
   "source": [
    "#save the model\n",
    "SaveModel = False\n",
    "if SaveModel:\n",
    "    torch.save({\n",
    "        'epoch': num_epochs,\n",
    "        'model_state_dict': net.state_dict(),\n",
    "        'optimizer_state_dict': optimizer.state_dict(),\n",
    "        'loss': loss,\n",
    "    }, 'trained_model.pth')"
   ]
  },
  {
   "cell_type": "markdown",
   "id": "9290c925",
   "metadata": {},
   "source": [
    "Compute accuracy of the model using test data"
   ]
  },
  {
   "cell_type": "code",
   "execution_count": 9,
   "id": "a576db32",
   "metadata": {},
   "outputs": [
    {
     "name": "stdout",
     "output_type": "stream",
     "text": [
      "Accuracy of the network on the 10000 test images: 98.82 %\n"
     ]
    }
   ],
   "source": [
    "# In test phase, we don't need to compute gradients (for memory efficiency)\n",
    "\n",
    "with torch.no_grad():\n",
    "    correct = 0\n",
    "    outofActivationPattern = 0\n",
    "    outofActivationPatternAndResultWrong = 0\n",
    "    \n",
    "    total = 0\n",
    "    for images, labels in test_loader:\n",
    "        labels = labels.to(device)\n",
    "        outputs = net(images)\n",
    "        _, predicted = torch.max(outputs.data, 1)\n",
    "        total += labels.size(0)\n",
    "        correct += (predicted == labels).sum().item()\n",
    "        \n",
    "\n",
    "    print('Accuracy of the network on the 10000 test images: {} %'.format(100 * correct / total))"
   ]
  },
  {
   "cell_type": "markdown",
   "id": "2bcf836e",
   "metadata": {},
   "source": [
    "# Adverserial attack: Iterative FGSM attack "
   ]
  },
  {
   "cell_type": "code",
   "execution_count": 19,
   "id": "c877cab4",
   "metadata": {},
   "outputs": [
    {
     "data": {
      "image/png": "[encoded data removed]",
      "text/plain": [
       "<Figure size 1500x500 with 3 Axes>"
      ]
     },
     "metadata": {},
     "output_type": "display_data"
    },
    {
     "name": "stdout",
     "output_type": "stream",
     "text": [
      "Predicted label for the original image: 1\n",
      "Predicted label for the perturbed image: 7\n"
     ]
    }
   ],
   "source": [
    "# Original image and label\n",
    "img = images[0].unsqueeze(0)\n",
    "label = labels[0].unsqueeze(0)\n",
    "\n",
    "# Perform iterative FGSM attack\n",
    "adv_img, noise, attackSuccessful = iterative_FGSM_attack(img, label, net)\n",
    "\n",
    "\n",
    "adv_img_np = adv_img.squeeze().detach().cpu().numpy()\n",
    "original_img_np = img.squeeze().detach().cpu().numpy()\n",
    "\n",
    "\n",
    "display_images([original_img_np, noise.squeeze().cpu().numpy(), adv_img_np], ['Original', 'Noise', 'Adversarial'])\n",
    "\n",
    "\n",
    "\n",
    "# Let's check the decision of NN for the original image and perturbed image \n",
    "original_img_tensor = img.to(device)\n",
    "perturbed_img_tensor = adv_img.to(device)\n",
    "\n",
    "# Forward pass through the model\n",
    "output_original_img = net(original_img_tensor)\n",
    "output_perturbed_img = net(perturbed_img_tensor)\n",
    "\n",
    "# Get the predicted class\n",
    "_, predicted_original_img = torch.max(output_original_img.data, 1)\n",
    "_, predicted_perturbed_img = torch.max(output_perturbed_img.data, 1)\n",
    "\n",
    "# Convert the predicted class to a human-readable label\n",
    "predicted_label_original_img = predicted_original_img.item()\n",
    "predicted_label_perturbed_img = predicted_perturbed_img.item()\n",
    "\n",
    "print(\"Predicted label for the original image:\", predicted_label_original_img)\n",
    "print(\"Predicted label for the perturbed image:\", predicted_label_perturbed_img)"
   ]
  },
  {
   "cell_type": "markdown",
   "id": "07758732",
   "metadata": {},
   "source": [
    "#### Use:  https://uvadlc-notebooks.readthedocs.io/en/latest/tutorial_notebooks/tutorial10/Adversarial_Attacks.html"
   ]
  },
  {
   "cell_type": "code",
   "execution_count": null,
   "id": "09e764ca",
   "metadata": {},
   "outputs": [],
   "source": []
  }
 ],
 "metadata": {
  "@webio": {
   "lastCommId": null,
   "lastKernelId": null
  },
  "kernelspec": {
   "display_name": "Python (AssARG)",
   "language": "python",
   "name": "assarg"
  },
  "language_info": {
   "codemirror_mode": {
    "name": "ipython",
    "version": 3
   },
   "file_extension": ".py",
   "mimetype": "text/x-python",
   "name": "python",
   "nbconvert_exporter": "python",
   "pygments_lexer": "ipython3",
   "version": "3.10.13"
  }
 },
 "nbformat": 4,
 "nbformat_minor": 5
}
